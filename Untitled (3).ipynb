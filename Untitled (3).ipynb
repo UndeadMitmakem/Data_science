{
 "cells": [
  {
   "cell_type": "markdown",
   "metadata": {},
   "source": [
    "# Решение СЛУ методом Гаусса"
   ]
  },
  {
   "cell_type": "markdown",
   "metadata": {},
   "source": [
    "## (Ширалиева Айсель)"
   ]
  },
  {
   "cell_type": "code",
   "execution_count": 20,
   "metadata": {},
   "outputs": [],
   "source": [
    "#функция для минора\n",
    "import copy\n",
    "import numpy as np\n",
    "\n",
    "def minor(i, j, A):\n",
    "    B = copy.deepcopy(A)\n",
    "    del B[i]\n",
    "    for i in range(len(A[0]) - 1):\n",
    "        del B[i][j]\n",
    "    return B\n",
    "\n",
    "#функция для определителя\n",
    "def determinant(A):\n",
    "    if len(A) != len(A[0]):\n",
    "        return None\n",
    "    if len(A[0]) == 1:\n",
    "        return A[0][0]\n",
    "    sign = 1\n",
    "    value = 0\n",
    "    for i in range(len(A)):\n",
    "        value += A[0][i] * sign * determinant(minor(0, i, A))\n",
    "        sign *= -1\n",
    "    return value\n",
    "\n",
    "#метод Гаусса\n",
    "#выбираем максимум из столбца\n",
    "def gaussian_elimination(A, B):\n",
    "#проверяем совместность системы \n",
    "    if len(A) != len(A[0]):\n",
    "        return None\n",
    "    elif determinant(A) == 0:\n",
    "        return None\n",
    "    else:\n",
    "#создаем матрицу AB\n",
    "        for i in range(len(A)):\n",
    "            A[i].append(B[i])\n",
    "            AB = copy.deepcopy(A)\n",
    "#находим максимальный элемент в столбце\n",
    "        for i in range(0, len (AB)):\n",
    "            temp_max = abs(AB[i][i])\n",
    "            maxindex = i\n",
    "#переставляем столбцы местами\n",
    "            for k in range(i+1, len (AB)):\n",
    "                if abs(AB[k][i]) > temp_max:\n",
    "                    temp_max = abs(AB[k][i])\n",
    "                    maxindex = k\n",
    "            for k in range(i, len (AB)+1):\n",
    "                temp = AB[maxindex][k]\n",
    "                AB[maxindex][k] = AB[i][k]\n",
    "                AB[i][k] = temp\n",
    "#приводим к ступенчатому виду\n",
    "            for k in range(i+1, len (AB)):\n",
    "                c = AB[k][i]/AB[i][i]\n",
    "                for j in range(i, len (AB)+1):\n",
    "                    if i == j:\n",
    "                        AB[k][j]=0\n",
    "                    else:\n",
    "                        AB[k][j] = AB[k][j] - (c*AB[i][j])\n",
    "#находим корни\n",
    "        x = [0 for i in range(len (AB))]\n",
    "        for i in range(len (AB)-1, -1, -1):\n",
    "            x[i] = AB[i][len (AB)]/AB[i][i]\n",
    "            for k in range(i-1, -1, -1):\n",
    "                AB[k][len (AB)] -= AB[k][i] * x[i]\n",
    "    return x "
   ]
  },
  {
   "cell_type": "code",
   "execution_count": 26,
   "metadata": {},
   "outputs": [
    {
     "name": "stdout",
     "output_type": "stream",
     "text": [
      "[-3.125, 4.75]\n"
     ]
    }
   ],
   "source": [
    "A1 = [[6, 5], [2, 3]]\n",
    "B1 = [5, 8]\n",
    "print(gaussian_elimination(A1, B1))"
   ]
  },
  {
   "cell_type": "code",
   "execution_count": 24,
   "metadata": {},
   "outputs": [
    {
     "name": "stdout",
     "output_type": "stream",
     "text": [
      "[3.0000000000000013, 0.9999999999999992, 5.000000000000002]\n"
     ]
    }
   ],
   "source": [
    "A2 = [[2, 1, -1], [-3, -1, 2], [-2, 1, 2]]\n",
    "B2 = [2, 0, 5]\n",
    "print(gaussian_elimination(A2, B2))"
   ]
  },
  {
   "cell_type": "code",
   "execution_count": 27,
   "metadata": {},
   "outputs": [
    {
     "name": "stdout",
     "output_type": "stream",
     "text": [
      "[1.0, 1.0, 1.0, 1.0, 1.0, 1.0, 1.0, 1.0, 1.0, 1.0]\n"
     ]
    }
   ],
   "source": [
    "A3 = [[1, 1, 1, 0, 0, 0, 0, 0, 0, 0], [0, 1, 1, 1, 0, 0, 0, 0, 0, 0], [0, 0, 1, 1, 0, 0, 0, 0, 0, 0], [0, 0, 0, 1, 1, 0, 0, 0, 0, 0], [0, 0, 0, 0, 1, 1, 0, 0, 0, 0], [0, 0, 0, 0, 0, 1, 1, 0, 0, 0], [0, 0, 0, 0, 0, 0, 1, 1, 0, 0], [0, 0, 0, 0, 0, 0, 0, 1, 1, 0], [0, 0, 0, 0, 0, 0, 0, 0, 1, 1], [1, 0, 0, 0, 0, 0, 0, 0, 0, 1]]\n",
    "B3 = [3, 3] + [2] * 8\n",
    "print(gaussian_elimination(A3, B3))"
   ]
  }
 ],
 "metadata": {
  "kernelspec": {
   "display_name": "Python 3",
   "language": "python",
   "name": "python3"
  },
  "language_info": {
   "codemirror_mode": {
    "name": "ipython",
    "version": 3
   },
   "file_extension": ".py",
   "mimetype": "text/x-python",
   "name": "python",
   "nbconvert_exporter": "python",
   "pygments_lexer": "ipython3",
   "version": "3.6.3"
  }
 },
 "nbformat": 4,
 "nbformat_minor": 2
}
