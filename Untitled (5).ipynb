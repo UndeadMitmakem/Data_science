{
 "cells": [
  {
   "cell_type": "code",
   "execution_count": null,
   "metadata": {},
   "outputs": [],
   "source": [
    "import math\n",
    "\n",
    "k = 0.1\n",
    "x_left = 0\n",
    "x_right = 1.0 / k\n",
    "eps = 1E-10\n",
    "\n",
    "def f(x, k):\n",
    "    return abs(math.sin(x)) - k*x\n",
    "\n",
    "def bisection (a, b, eps):\n",
    "    c = (a + b)/2\n",
    "    if f(a, k)*f(b, k) < 0:\n",
    "        while abs(b-a) >= 2*eps:\n",
    "            if f(a,k)*f(c,k) < 0:\n",
    "                b=c\n",
    "            else:\n",
    "                a=c\n",
    "    return c\n",
    "\n",
    "interval = []\n",
    "b = int(x_right)\n",
    "\n",
    "if k == 0:\n",
    "    print(0)\n",
    "elif k > 0:\n",
    "    for i in range (b):\n",
    "        s = i*(math.pi)/2\n",
    "        if s < x_right:\n",
    "            interval.append(s)\n",
    "    interval.sort()\n",
    "print(0) #так как 0 всегда является корнем данного уравнения\n",
    "for i in range (len(interval)-1):\n",
    "    solutions = [bisection(interval[i], interval[i+1], eps)] "
   ]
  },
  {
   "cell_type": "raw",
   "metadata": {},
   "source": [
    "[0.0, 2.8523418944603636, 3.4990638198130073, 5.679207796360523, 7.068174358221577, 8.423203932345157]"
   ]
  }
 ],
 "metadata": {
  "kernelspec": {
   "display_name": "Python 3",
   "language": "python",
   "name": "python3"
  },
  "language_info": {
   "codemirror_mode": {
    "name": "ipython",
    "version": 3
   },
   "file_extension": ".py",
   "mimetype": "text/x-python",
   "name": "python",
   "nbconvert_exporter": "python",
   "pygments_lexer": "ipython3",
   "version": "3.6.3"
  }
 },
 "nbformat": 4,
 "nbformat_minor": 2
}
