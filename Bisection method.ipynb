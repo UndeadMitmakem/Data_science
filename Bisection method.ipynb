{
 "cells": [
  {
   "cell_type": "code",
   "execution_count": null,
   "metadata": {},
   "outputs": [
    {
     "name": "stdout",
     "output_type": "stream",
     "text": [
      "0.7403371908901507\n",
      "1.622046051191842\n",
      "1.9047893900149235\n",
      "2.187532728838005\n"
     ]
    }
   ],
   "source": [
    "import math\n",
    "\n",
    "k = 0.09\n",
    "a = 0\n",
    "b = 1.0 / k\n",
    "eps = 1E-10\n",
    "\n",
    "\n",
    "def f(x, k):\n",
    "    return abs(math.sin(x)) - k*x\n",
    "def bisection (a, b, eps):\n",
    "    c = (a + b)/2\n",
    "    if f(a + eps, k)*f(b, k) < 0:\n",
    "        while abs(b-a) >= eps:\n",
    "            if f(a,k)*f(c,k) < 0:\n",
    "                b=c\n",
    "            else:\n",
    "                a=c\n",
    "    return c\n",
    "interval = [a]\n",
    "s = (b - math.acos(k)) / (math.pi)\n",
    "n = int(math.floor(s))\n",
    "for i in range(n + 1):\n",
    "    y0 = (math.acos(k) + i * math.pi)\n",
    "    y1 = (math.acos(k) + (i+1) * math.pi)\n",
    "    z = (y0 + y1) / 2\n",
    "    if z < b:\n",
    "        interval.append(z)\n",
    "    y2 = (math.acos(k) + math.pi*i*k)\n",
    "    interval.append(y2)\n",
    "interval.append(b)\n",
    "interval.sort()\n",
    "for i in range (len(interval)-1):\n",
    "    print(bisection(interval[i], interval[i+1], eps))"
   ]
  }
 ],
 "metadata": {
  "kernelspec": {
   "display_name": "Python 3",
   "language": "python",
   "name": "python3"
  },
  "language_info": {
   "codemirror_mode": {
    "name": "ipython",
    "version": 3
   },
   "file_extension": ".py",
   "mimetype": "text/x-python",
   "name": "python",
   "nbconvert_exporter": "python",
   "pygments_lexer": "ipython3",
   "version": "3.6.3"
  }
 },
 "nbformat": 4,
 "nbformat_minor": 2
}
