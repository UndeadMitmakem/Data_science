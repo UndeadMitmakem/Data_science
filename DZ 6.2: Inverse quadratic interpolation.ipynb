{
 "cells": [
  {
   "cell_type": "markdown",
   "metadata": {},
   "source": [
    "## ДЗ 6: Обратная параболическая интерполяция"
   ]
  },
  {
   "cell_type": "code",
   "execution_count": 113,
   "metadata": {},
   "outputs": [],
   "source": [
    "import math\n",
    "import numpy as np\n",
    "import matplotlib\n",
    "import matplotlib.pyplot as plt\n",
    "%matplotlib inline"
   ]
  },
  {
   "cell_type": "code",
   "execution_count": 114,
   "metadata": {},
   "outputs": [],
   "source": [
    "#исходная фукция\n",
    "def f (x): \n",
    "    f= - (math.cos(x))\n",
    "    return f"
   ]
  },
  {
   "cell_type": "code",
   "execution_count": 115,
   "metadata": {},
   "outputs": [],
   "source": [
    "#обратная параболическая интерполяция\n",
    "def inv_quadr_interpolation(a, b, f, eps):\n",
    "    while True:\n",
    "        mid = (a + b) / 2\n",
    "        f1, f2, f3 = f(a), f(mid), f(b)\n",
    "        koef1 = ((mid-a)**2) * (f2-f3) - ((mid-b)**2) * (f2-f1)\n",
    "        koef2 = 2 * ((mid-a)*(f2-f3) - (mid-b)*(f2-f1))\n",
    "        delta = koef1/koef2\n",
    "        if abs(delta) <= eps:\n",
    "            break\n",
    "        if delta>=0:\n",
    "            b = mid\n",
    "        else:\n",
    "            a = mid\n",
    "    return mid"
   ]
  },
  {
   "cell_type": "code",
   "execution_count": 116,
   "metadata": {},
   "outputs": [
    {
     "name": "stdout",
     "output_type": "stream",
     "text": [
      "6.2831853069365025\n"
     ]
    }
   ],
   "source": [
    "print(inv_quadr_interpolation(4, 7, f, 1E-10))"
   ]
  },
  {
   "cell_type": "code",
   "execution_count": null,
   "metadata": {},
   "outputs": [
    {
     "data": {
      "text/plain": [
       "Text(0.5,1,'Нахождение минимума функции на отрезке')"
      ]
     },
     "execution_count": 117,
     "metadata": {},
     "output_type": "execute_result"
    }
   ],
   "source": [
    "#рисуем графики\n",
    "xx = np.linspace(1, 7, 100)\n",
    "value = parab(f, 4, 7, 1E-10)\n",
    "plt.grid(True)\n",
    "plt.plot(xx, [f (xk) for xk in xx], '-')\n",
    "plt.plot(value, f (value), 'o')\n",
    "plt.plot(4.0, f (4), 'o')\n",
    "plt.plot(7, f (7), 'o')\n",
    "plt.title ('Нахождение минимума функции на отрезке')"
   ]
  }
 ],
 "metadata": {
  "kernelspec": {
   "display_name": "Python 3",
   "language": "python",
   "name": "python3"
  },
  "language_info": {
   "codemirror_mode": {
    "name": "ipython",
    "version": 3
   },
   "file_extension": ".py",
   "mimetype": "text/x-python",
   "name": "python",
   "nbconvert_exporter": "python",
   "pygments_lexer": "ipython3",
   "version": "3.6.4"
  }
 },
 "nbformat": 4,
 "nbformat_minor": 2
}
